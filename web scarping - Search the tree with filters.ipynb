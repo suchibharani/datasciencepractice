{
 "cells": [
  {
   "cell_type": "code",
   "execution_count": 1,
   "metadata": {},
   "outputs": [],
   "source": [
    "from bs4 import BeautifulSoup"
   ]
  },
  {
   "cell_type": "code",
   "execution_count": 2,
   "metadata": {},
   "outputs": [],
   "source": [
    "with open('/Users/suchitra/Desktop/work/private/course/Data science/datasciencepractice/dataset/web_scraping.html','r') as organization:\n",
    "    soup = BeautifulSoup(organization,'lxml')"
   ]
  },
  {
   "cell_type": "code",
   "execution_count": 3,
   "metadata": {},
   "outputs": [
    {
     "data": {
      "text/plain": [
       "[u'html',\n",
       " <html>\\n<body>\\n<h2>An ordered HTML list</h2>\\n<ol>\\n<li>Coffee</li>\\n<li>Tea</li>\\n<li>Milk</li>\\n</ol>\\n</body>\\n</html>,\n",
       " u'\\n']"
      ]
     },
     "execution_count": 3,
     "metadata": {},
     "output_type": "execute_result"
    }
   ],
   "source": [
    "soup.contents"
   ]
  },
  {
   "cell_type": "code",
   "execution_count": 4,
   "metadata": {},
   "outputs": [],
   "source": [
    "tag_li = soup.find('li')"
   ]
  },
  {
   "cell_type": "code",
   "execution_count": 5,
   "metadata": {},
   "outputs": [
    {
     "name": "stdout",
     "output_type": "stream",
     "text": [
      "<class 'bs4.element.Tag'>\n"
     ]
    }
   ],
   "source": [
    "print type(tag_li)"
   ]
  },
  {
   "cell_type": "code",
   "execution_count": 6,
   "metadata": {},
   "outputs": [
    {
     "name": "stdout",
     "output_type": "stream",
     "text": [
      "<li>Coffee</li>\n"
     ]
    }
   ],
   "source": [
    "print tag_li"
   ]
  },
  {
   "cell_type": "code",
   "execution_count": 8,
   "metadata": {},
   "outputs": [
    {
     "name": "stdout",
     "output_type": "stream",
     "text": [
      "\n",
      "suchitra.bhupathy@gmail.com\n"
     ]
    }
   ],
   "source": [
    "import re\n",
    "email_example = \"\"\"<br/>\n",
    "<p>my email id is </p>\n",
    "suchitra.bhupathy@gmail.com\"\"\"\n",
    "soup_email = BeautifulSoup(email_example,'lxml')\n",
    "emailId_regEx = re.compile(\"\\w+@\\w+\\.\\w+\")\n",
    "email_id = soup_email.find(text=emailId_regEx)\n",
    "print email_id"
   ]
  },
  {
   "cell_type": "code",
   "execution_count": null,
   "metadata": {},
   "outputs": [],
   "source": []
  }
 ],
 "metadata": {
  "kernelspec": {
   "display_name": "Python 2",
   "language": "python",
   "name": "python2"
  },
  "language_info": {
   "codemirror_mode": {
    "name": "ipython",
    "version": 2
   },
   "file_extension": ".py",
   "mimetype": "text/x-python",
   "name": "python",
   "nbconvert_exporter": "python",
   "pygments_lexer": "ipython2",
   "version": "2.7.15"
  }
 },
 "nbformat": 4,
 "nbformat_minor": 2
}
