{
 "cells": [
  {
   "cell_type": "code",
   "execution_count": 1,
   "metadata": {},
   "outputs": [],
   "source": [
    "from bs4 import BeautifulSoup"
   ]
  },
  {
   "cell_type": "code",
   "execution_count": 2,
   "metadata": {},
   "outputs": [],
   "source": [
    "employee_html = \"\"\"<employeees>\n",
    "    <employee class=\"accountant\">\n",
    "        <firstname>Jhon</firstname> <lastname>Doe</lastname>\n",
    "    </employee>\n",
    "    <employee class=\"manager\">\n",
    "        <firstname>Jhon</firstname> <lastname>Doe</lastname>\n",
    "    </employee>\n",
    "    <employee class=\"accountant\">\n",
    "        <firstname>Jhon</firstname> <lastname>Doe</lastname>\n",
    "    </employee>\n",
    "</employeees>\"\"\""
   ]
  },
  {
   "cell_type": "code",
   "execution_count": 4,
   "metadata": {},
   "outputs": [],
   "source": [
    "soup_emp = BeautifulSoup(employee_html,'html.parser')"
   ]
  },
  {
   "cell_type": "code",
   "execution_count": 6,
   "metadata": {},
   "outputs": [
    {
     "data": {
      "text/plain": [
       "<employee class=\"accountant\">\\n<firstname>Jhon</firstname> <lastname>Doe</lastname>\\n</employee>"
      ]
     },
     "execution_count": 6,
     "metadata": {},
     "output_type": "execute_result"
    }
   ],
   "source": [
    "tag = soup_emp.employee\n",
    "tag"
   ]
  },
  {
   "cell_type": "code",
   "execution_count": 7,
   "metadata": {},
   "outputs": [],
   "source": [
    "tag['class'] = 'manager'"
   ]
  },
  {
   "cell_type": "code",
   "execution_count": 8,
   "metadata": {},
   "outputs": [
    {
     "data": {
      "text/plain": [
       "<employee class=\"manager\">\\n<firstname>Jhon</firstname> <lastname>Doe</lastname>\\n</employee>"
      ]
     },
     "execution_count": 8,
     "metadata": {},
     "output_type": "execute_result"
    }
   ],
   "source": [
    "tag"
   ]
  },
  {
   "cell_type": "code",
   "execution_count": 9,
   "metadata": {},
   "outputs": [
    {
     "data": {
      "text/plain": [
       "<employeees>\\n<employee class=\"manager\">\\n<firstname>Jhon</firstname> <lastname>Doe</lastname>\\n</employee>\\n<employee class=\"manager\">\\n<firstname>Jhon</firstname> <lastname>Doe</lastname>\\n</employee>\\n<employee class=\"accountant\">\\n<firstname>Jhon</firstname> <lastname>Doe</lastname>\\n</employee>\\n</employeees>"
      ]
     },
     "execution_count": 9,
     "metadata": {},
     "output_type": "execute_result"
    }
   ],
   "source": [
    "soup_emp"
   ]
  },
  {
   "cell_type": "code",
   "execution_count": 11,
   "metadata": {},
   "outputs": [],
   "source": [
    "tag = soup_emp.new_tag('rank')\n",
    "tag.string = 'Manager 1'\n",
    "soup_emp.employeees.employee.insert_after(tag)"
   ]
  },
  {
   "cell_type": "code",
   "execution_count": 12,
   "metadata": {},
   "outputs": [
    {
     "name": "stdout",
     "output_type": "stream",
     "text": [
      "<employeees>\n",
      "<employee class=\"manager\">\n",
      "<firstname>Jhon</firstname> <lastname>Doe</lastname>\n",
      "</employee><rank>Manager 1</rank>\n",
      "<employee class=\"manager\">\n",
      "<firstname>Jhon</firstname> <lastname>Doe</lastname>\n",
      "</employee>\n",
      "<employee class=\"accountant\">\n",
      "<firstname>Jhon</firstname> <lastname>Doe</lastname>\n",
      "</employee>\n",
      "</employeees>\n"
     ]
    }
   ],
   "source": [
    "print soup_emp"
   ]
  },
  {
   "cell_type": "code",
   "execution_count": 13,
   "metadata": {},
   "outputs": [],
   "source": [
    "tag.clear()"
   ]
  },
  {
   "cell_type": "code",
   "execution_count": 15,
   "metadata": {},
   "outputs": [
    {
     "name": "stdout",
     "output_type": "stream",
     "text": [
      "<employeees>\n",
      "<employee class=\"manager\">\n",
      "<firstname>Jhon</firstname> <lastname>Doe</lastname>\n",
      "</employee><rank></rank>\n",
      "<employee class=\"manager\">\n",
      "<firstname>Jhon</firstname> <lastname>Doe</lastname>\n",
      "</employee>\n",
      "<employee class=\"accountant\">\n",
      "<firstname>Jhon</firstname> <lastname>Doe</lastname>\n",
      "</employee>\n",
      "</employeees>\n"
     ]
    }
   ],
   "source": [
    "print soup_emp\n"
   ]
  },
  {
   "cell_type": "code",
   "execution_count": 16,
   "metadata": {},
   "outputs": [
    {
     "data": {
      "text/plain": [
       "<employee class=\"manager\">\\n<firstname>Jhon</firstname> <lastname>Doe</lastname>\\n</employee>"
      ]
     },
     "execution_count": 16,
     "metadata": {},
     "output_type": "execute_result"
    }
   ],
   "source": [
    "tag = soup_emp.employeees.employee\n",
    "tag"
   ]
  },
  {
   "cell_type": "code",
   "execution_count": 17,
   "metadata": {},
   "outputs": [
    {
     "data": {
      "text/plain": [
       "u'Jhon'"
      ]
     },
     "execution_count": 17,
     "metadata": {},
     "output_type": "execute_result"
    }
   ],
   "source": [
    "tag.firstname.string.extract()"
   ]
  },
  {
   "cell_type": "code",
   "execution_count": 18,
   "metadata": {},
   "outputs": [
    {
     "data": {
      "text/plain": [
       "<firstname></firstname>"
      ]
     },
     "execution_count": 18,
     "metadata": {},
     "output_type": "execute_result"
    }
   ],
   "source": [
    "tag.firstname.replace_with('first name')"
   ]
  },
  {
   "cell_type": "code",
   "execution_count": 19,
   "metadata": {},
   "outputs": [
    {
     "data": {
      "text/plain": [
       "<employeees>\\n<employee class=\"manager\">\\nfirst name <lastname>Doe</lastname>\\n</employee><rank></rank>\\n<employee class=\"manager\">\\n<firstname>Jhon</firstname> <lastname>Doe</lastname>\\n</employee>\\n<employee class=\"accountant\">\\n<firstname>Jhon</firstname> <lastname>Doe</lastname>\\n</employee>\\n</employeees>"
      ]
     },
     "execution_count": 19,
     "metadata": {},
     "output_type": "execute_result"
    }
   ],
   "source": [
    "soup_emp.employeees"
   ]
  },
  {
   "cell_type": "code",
   "execution_count": null,
   "metadata": {},
   "outputs": [],
   "source": []
  }
 ],
 "metadata": {
  "kernelspec": {
   "display_name": "Python 2",
   "language": "python",
   "name": "python2"
  },
  "language_info": {
   "codemirror_mode": {
    "name": "ipython",
    "version": 2
   },
   "file_extension": ".py",
   "mimetype": "text/x-python",
   "name": "python",
   "nbconvert_exporter": "python",
   "pygments_lexer": "ipython2",
   "version": "2.7.15"
  }
 },
 "nbformat": 4,
 "nbformat_minor": 2
}
