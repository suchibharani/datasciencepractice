{
 "cells": [
  {
   "cell_type": "code",
   "execution_count": 1,
   "metadata": {},
   "outputs": [],
   "source": [
    "from bs4 import BeautifulSoup"
   ]
  },
  {
   "cell_type": "code",
   "execution_count": 11,
   "metadata": {},
   "outputs": [],
   "source": [
    "data_SL = \"\"\"<employeees>\n",
    "    <employee class=\"accountant\">\n",
    "        <firstname>Jhon</firstname> <lastname>Doe</lastname>\n",
    "    </employee>\n",
    "    <employee class=\"manager\" id=\"employeees\">\n",
    "        <firstname>suchi </firstname> <lastname>bharani</lastname>\n",
    "    </employee>\n",
    "    <employee class=\"accountant\">\n",
    "        <firstname>claire</firstname> <lastname>Phil</lastname>\n",
    "    </employee>\n",
    "</employeees>\"\"\""
   ]
  },
  {
   "cell_type": "code",
   "execution_count": 12,
   "metadata": {},
   "outputs": [],
   "source": [
    "soup_SL = BeautifulSoup(data_SL,'html.parser')"
   ]
  },
  {
   "cell_type": "code",
   "execution_count": 13,
   "metadata": {},
   "outputs": [
    {
     "name": "stdout",
     "output_type": "stream",
     "text": [
      "\n",
      "\n",
      "Jhon Doe\n",
      "\n",
      "\n",
      "suchi  bharani\n",
      "\n",
      "\n",
      "claire Phil\n",
      "\n",
      "\n"
     ]
    }
   ],
   "source": [
    "print soup_SL.get_text()"
   ]
  },
  {
   "cell_type": "code",
   "execution_count": 14,
   "metadata": {},
   "outputs": [],
   "source": [
    "from bs4 import SoupStrainer"
   ]
  },
  {
   "cell_type": "code",
   "execution_count": 16,
   "metadata": {},
   "outputs": [
    {
     "data": {
      "text/plain": [
       "<bs4.element.SoupStrainer at 0x10ace9110>"
      ]
     },
     "execution_count": 16,
     "metadata": {},
     "output_type": "execute_result"
    }
   ],
   "source": [
    "tags_with_lablink = SoupStrainer(id='employeees')\n",
    "tags_with_lablink"
   ]
  },
  {
   "cell_type": "code",
   "execution_count": 17,
   "metadata": {},
   "outputs": [
    {
     "name": "stdout",
     "output_type": "stream",
     "text": [
      "<employee class=\"manager\" id=\"employeees\">\n",
      " <firstname>\n",
      "  suchi\n",
      " </firstname>\n",
      " <lastname>\n",
      "  bharani\n",
      " </lastname>\n",
      "</employee>\n"
     ]
    }
   ],
   "source": [
    "print (BeautifulSoup(data_SL,'html.parser',parse_only=tags_with_lablink).prettify())"
   ]
  },
  {
   "cell_type": "code",
   "execution_count": null,
   "metadata": {},
   "outputs": [],
   "source": []
  }
 ],
 "metadata": {
  "kernelspec": {
   "display_name": "Python 2",
   "language": "python",
   "name": "python2"
  },
  "language_info": {
   "codemirror_mode": {
    "name": "ipython",
    "version": 2
   },
   "file_extension": ".py",
   "mimetype": "text/x-python",
   "name": "python",
   "nbconvert_exporter": "python",
   "pygments_lexer": "ipython2",
   "version": "2.7.15"
  }
 },
 "nbformat": 4,
 "nbformat_minor": 2
}
